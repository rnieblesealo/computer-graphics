{
 "cells": [
  {
   "cell_type": "markdown",
   "id": "8a40e8fb-70e0-4ac7-a463-684e7a56e0bf",
   "metadata": {},
   "source": [
    "# Assignment 1: Rafael Niebles"
   ]
  },
  {
   "cell_type": "code",
   "execution_count": 1,
   "id": "09f0d968-83db-4ad3-a11f-9b1e198fed4d",
   "metadata": {},
   "outputs": [
    {
     "name": "stderr",
     "output_type": "stream",
     "text": [
      "/Users/rafa/Documents/UCF/COMPUTER-GRAPHICS/venv/lib/python3.13/site-packages/pygame/pkgdata.py:25: UserWarning: pkg_resources is deprecated as an API. See https://setuptools.pypa.io/en/latest/pkg_resources.html. The pkg_resources package is slated for removal as early as 2025-11-30. Refrain from using this package or pin to Setuptools<81.\n",
      "  from pkg_resources import resource_stream, resource_exists\n"
     ]
    },
    {
     "name": "stdout",
     "output_type": "stream",
     "text": [
      "pygame 2.6.1 (SDL 2.28.4, Python 3.13.7)\n",
      "Hello from the pygame community. https://www.pygame.org/contribute.html\n"
     ]
    }
   ],
   "source": [
    "import pygame\n",
    "import random\n",
    "\n",
    "pygame.init()\n",
    "pygame.display.set_caption(title=\"Assignment 1: Rafael Niebles\")\n",
    "\n",
    "screen = pygame.display.set_mode((500, 500))\n",
    "clock = pygame.time.Clock()\n",
    "running = True\n",
    "\n",
    "while running:\n",
    "    # need quit mechanism\n",
    "    for event in pygame.event.get():\n",
    "        if event.type == pygame.QUIT: # sent by window x click i think\n",
    "            running = False\n",
    "\n",
    "    # randomize color every frame\n",
    "    r = random.randint(0, 255)\n",
    "    g = random.randint(0, 255)\n",
    "    b = random.randint(0, 255)\n",
    "    a = 255\n",
    "    \n",
    "    screen.fill((r, g, b, a)) # fill screen with color\n",
    "    pygame.display.flip() # swap buffer\n",
    "    clock.tick(30) # limit to 30fps\n",
    "\n",
    "pygame.quit()"
   ]
  },
  {
   "cell_type": "raw",
   "id": "a2737228-28fe-43ae-ab9e-ee9c0eb7d22e",
   "metadata": {},
   "source": []
  }
 ],
 "metadata": {
  "kernelspec": {
   "display_name": "venv",
   "language": "python",
   "name": "venv"
  },
  "language_info": {
   "codemirror_mode": {
    "name": "ipython",
    "version": 3
   },
   "file_extension": ".py",
   "mimetype": "text/x-python",
   "name": "python",
   "nbconvert_exporter": "python",
   "pygments_lexer": "ipython3",
   "version": "3.13.7"
  }
 },
 "nbformat": 4,
 "nbformat_minor": 5
}
